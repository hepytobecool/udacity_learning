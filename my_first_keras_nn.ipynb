{
 "cells": [
  {
   "cell_type": "markdown",
   "metadata": {},
   "source": [
    "# my_first_keras_nn"
   ]
  },
  {
   "cell_type": "code",
   "execution_count": 3,
   "metadata": {},
   "outputs": [],
   "source": [
    "from keras.datasets import mnist"
   ]
  },
  {
   "cell_type": "code",
   "execution_count": 15,
   "metadata": {},
   "outputs": [
    {
     "name": "stdout",
     "output_type": "stream",
     "text": [
      "Downloading data from https://s3.amazonaws.com/img-datasets/mnist.npz\n",
      "11493376/11490434 [==============================] - 42s 4us/step\n"
     ]
    }
   ],
   "source": [
    "(x_train, y_train) ,(x_test, y_test) = mnist.load_data()"
   ]
  },
  {
   "cell_type": "code",
   "execution_count": 16,
   "metadata": {},
   "outputs": [],
   "source": [
    "import matplotlib.pyplot as plt\n",
    "import matplotlib.cm as cm\n",
    "import numpy as np"
   ]
  },
  {
   "cell_type": "code",
   "execution_count": 22,
   "metadata": {},
   "outputs": [
    {
     "data": {
      "image/png": "[encoded data removed]",
      "text/plain": [
       "<matplotlib.figure.Figure at 0x1c1d2b9f28>"
      ]
     },
     "metadata": {},
     "output_type": "display_data"
    }
   ],
   "source": [
    "fig = plt.figure(figsize=(20,20))\n",
    "for i in range(6):\n",
    "    ax = fig.add_subplot(1,6,i+1,xticks=[],yticks=[])\n",
    "    ax.imshow(x_train[i], cmap='gray')\n",
    "    ax.set_title(str(y_train[i]))"
   ]
  },
  {
   "cell_type": "code",
   "execution_count": 24,
   "metadata": {},
   "outputs": [],
   "source": [
    "x_train = x_train.astype('float32')/255\n",
    "x_test = x_test.astype('float32')/255"
   ]
  },
  {
   "cell_type": "code",
   "execution_count": 25,
   "metadata": {},
   "outputs": [],
   "source": [
    "from keras.utils import np_utils"
   ]
  },
  {
   "cell_type": "code",
   "execution_count": 26,
   "metadata": {},
   "outputs": [],
   "source": [
    "y_train = np_utils.to_categorical(y_train,10)\n",
    "y_test = np_utils.to_categorical(y_test,10)"
   ]
  },
  {
   "cell_type": "code",
   "execution_count": 27,
   "metadata": {},
   "outputs": [
    {
     "data": {
      "text/plain": [
       "array([[0., 0., 0., 0., 0., 1., 0., 0., 0., 0.],\n",
       "       [1., 0., 0., 0., 0., 0., 0., 0., 0., 0.],\n",
       "       [0., 0., 0., 0., 1., 0., 0., 0., 0., 0.],\n",
       "       [0., 1., 0., 0., 0., 0., 0., 0., 0., 0.],\n",
       "       [0., 0., 0., 0., 0., 0., 0., 0., 0., 1.],\n",
       "       [0., 0., 1., 0., 0., 0., 0., 0., 0., 0.],\n",
       "       [0., 1., 0., 0., 0., 0., 0., 0., 0., 0.],\n",
       "       [0., 0., 0., 1., 0., 0., 0., 0., 0., 0.],\n",
       "       [0., 1., 0., 0., 0., 0., 0., 0., 0., 0.],\n",
       "       [0., 0., 0., 0., 1., 0., 0., 0., 0., 0.]], dtype=float32)"
      ]
     },
     "execution_count": 27,
     "metadata": {},
     "output_type": "execute_result"
    }
   ],
   "source": [
    "y_train[:10]"
   ]
  },
  {
   "cell_type": "code",
   "execution_count": 34,
   "metadata": {},
   "outputs": [],
   "source": [
    "from keras.models import Sequential\n",
    "from keras.layers import Dense ,Flatten, Activation, Dropout"
   ]
  },
  {
   "cell_type": "markdown",
   "metadata": {},
   "source": [
    "## define model"
   ]
  },
  {
   "cell_type": "code",
   "execution_count": 80,
   "metadata": {},
   "outputs": [
    {
     "name": "stdout",
     "output_type": "stream",
     "text": [
      "_________________________________________________________________\n",
      "Layer (type)                 Output Shape              Param #   \n",
      "=================================================================\n",
      "flatten_11 (Flatten)         (None, 784)               0         \n",
      "_________________________________________________________________\n",
      "dense_31 (Dense)             (None, 128)               100480    \n",
      "_________________________________________________________________\n",
      "dropout_15 (Dropout)         (None, 128)               0         \n",
      "_________________________________________________________________\n",
      "dense_32 (Dense)             (None, 128)               16512     \n",
      "_________________________________________________________________\n",
      "dropout_16 (Dropout)         (None, 128)               0         \n",
      "_________________________________________________________________\n",
      "dense_33 (Dense)             (None, 10)                1290      \n",
      "=================================================================\n",
      "Total params: 118,282\n",
      "Trainable params: 118,282\n",
      "Non-trainable params: 0\n",
      "_________________________________________________________________\n"
     ]
    }
   ],
   "source": [
    "model = Sequential([\n",
    "    Flatten(input_shape=x_train.shape[1:]),\n",
    "    Dense(128,activation='relu'),\n",
    "    Dropout(0.3),\n",
    "    Dense(128,activation='relu'),\n",
    "    Dropout(0.3),\n",
    "    Dense(10,activation='softmax')\n",
    "])\n",
    "model.summary()"
   ]
  },
  {
   "cell_type": "code",
   "execution_count": 81,
   "metadata": {},
   "outputs": [],
   "source": [
    "#rmsprop\n",
    "model.compile(loss='categorical_crossentropy', optimizer='sgd', metrics=['accuracy']) "
   ]
  },
  {
   "cell_type": "markdown",
   "metadata": {},
   "source": [
    "## 训练之前看看模型效果，如果已经很好了，训练也没什么意义"
   ]
  },
  {
   "cell_type": "code",
   "execution_count": 82,
   "metadata": {},
   "outputs": [
    {
     "name": "stdout",
     "output_type": "stream",
     "text": [
      "Test accuracy: 10.5200%\n"
     ]
    }
   ],
   "source": [
    "score = model.evaluate(x_test,y_test,verbose=0)\n",
    "accuracy = 100*score[1]\n",
    "print('Test accuracy: %.4f%%' %accuracy)"
   ]
  },
  {
   "cell_type": "markdown",
   "metadata": {},
   "source": [
    "## 训练模型"
   ]
  },
  {
   "cell_type": "code",
   "execution_count": 83,
   "metadata": {},
   "outputs": [],
   "source": [
    "from keras.callbacks import ModelCheckpoint"
   ]
  },
  {
   "cell_type": "code",
   "execution_count": 84,
   "metadata": {},
   "outputs": [],
   "source": [
    "check_pointer = ModelCheckpoint(filepath='mnist.model.best.hdf5', verbose=1, save_best_only=True)"
   ]
  },
  {
   "cell_type": "code",
   "execution_count": 85,
   "metadata": {},
   "outputs": [
    {
     "name": "stdout",
     "output_type": "stream",
     "text": [
      "Train on 48000 samples, validate on 12000 samples\n",
      "Epoch 1/100\n",
      "48000/48000 [==============================] - 1s 20us/step - loss: 1.7323 - acc: 0.4541 - val_loss: 0.9535 - val_acc: 0.8036\n",
      "\n",
      "Epoch 00001: val_loss improved from inf to 0.95351, saving model to mnist.model.best.hdf5\n",
      "Epoch 2/100\n",
      "48000/48000 [==============================] - 1s 20us/step - loss: 0.9520 - acc: 0.7080 - val_loss: 0.5548 - val_acc: 0.8622\n",
      "\n",
      "Epoch 00002: val_loss improved from 0.95351 to 0.55475, saving model to mnist.model.best.hdf5\n",
      "Epoch 3/100\n",
      "48000/48000 [==============================] - 1s 21us/step - loss: 0.7156 - acc: 0.7788 - val_loss: 0.4380 - val_acc: 0.8842\n",
      "\n",
      "Epoch 00003: val_loss improved from 0.55475 to 0.43800, saving model to mnist.model.best.hdf5\n",
      "Epoch 4/100\n",
      "48000/48000 [==============================] - 1s 21us/step - loss: 0.6043 - acc: 0.8150 - val_loss: 0.3820 - val_acc: 0.8968\n",
      "\n",
      "Epoch 00004: val_loss improved from 0.43800 to 0.38197, saving model to mnist.model.best.hdf5\n",
      "Epoch 5/100\n",
      "48000/48000 [==============================] - 1s 20us/step - loss: 0.5380 - acc: 0.8376 - val_loss: 0.3442 - val_acc: 0.9038\n",
      "\n",
      "Epoch 00005: val_loss improved from 0.38197 to 0.34420, saving model to mnist.model.best.hdf5\n",
      "Epoch 6/100\n",
      "48000/48000 [==============================] - 1s 22us/step - loss: 0.4973 - acc: 0.8514 - val_loss: 0.3204 - val_acc: 0.9090\n",
      "\n",
      "Epoch 00006: val_loss improved from 0.34420 to 0.32039, saving model to mnist.model.best.hdf5\n",
      "Epoch 7/100\n",
      "48000/48000 [==============================] - 1s 20us/step - loss: 0.4615 - acc: 0.8621 - val_loss: 0.3018 - val_acc: 0.9120\n",
      "\n",
      "Epoch 00007: val_loss improved from 0.32039 to 0.30185, saving model to mnist.model.best.hdf5\n",
      "Epoch 8/100\n",
      "48000/48000 [==============================] - 1s 22us/step - loss: 0.4358 - acc: 0.8714 - val_loss: 0.2860 - val_acc: 0.9172\n",
      "\n",
      "Epoch 00008: val_loss improved from 0.30185 to 0.28599, saving model to mnist.model.best.hdf5\n",
      "Epoch 9/100\n",
      "48000/48000 [==============================] - 1s 23us/step - loss: 0.4160 - acc: 0.8768 - val_loss: 0.2740 - val_acc: 0.9203\n",
      "\n",
      "Epoch 00009: val_loss improved from 0.28599 to 0.27399, saving model to mnist.model.best.hdf5\n",
      "Epoch 10/100\n",
      "48000/48000 [==============================] - 1s 23us/step - loss: 0.3932 - acc: 0.8849 - val_loss: 0.2617 - val_acc: 0.9247\n",
      "\n",
      "Epoch 00010: val_loss improved from 0.27399 to 0.26167, saving model to mnist.model.best.hdf5\n",
      "Epoch 11/100\n",
      "48000/48000 [==============================] - 1s 22us/step - loss: 0.3776 - acc: 0.8895 - val_loss: 0.2519 - val_acc: 0.9272\n",
      "\n",
      "Epoch 00011: val_loss improved from 0.26167 to 0.25187, saving model to mnist.model.best.hdf5\n",
      "Epoch 12/100\n",
      "48000/48000 [==============================] - 1s 24us/step - loss: 0.3653 - acc: 0.8933 - val_loss: 0.2424 - val_acc: 0.9305\n",
      "\n",
      "Epoch 00012: val_loss improved from 0.25187 to 0.24245, saving model to mnist.model.best.hdf5\n",
      "Epoch 13/100\n",
      "48000/48000 [==============================] - 1s 23us/step - loss: 0.3535 - acc: 0.8971 - val_loss: 0.2358 - val_acc: 0.9308\n",
      "\n",
      "Epoch 00013: val_loss improved from 0.24245 to 0.23577, saving model to mnist.model.best.hdf5\n",
      "Epoch 14/100\n",
      "48000/48000 [==============================] - 1s 21us/step - loss: 0.3405 - acc: 0.9000 - val_loss: 0.2276 - val_acc: 0.9332\n",
      "\n",
      "Epoch 00014: val_loss improved from 0.23577 to 0.22758, saving model to mnist.model.best.hdf5\n",
      "Epoch 15/100\n",
      "48000/48000 [==============================] - 1s 22us/step - loss: 0.3325 - acc: 0.9030 - val_loss: 0.2220 - val_acc: 0.9352\n",
      "\n",
      "Epoch 00015: val_loss improved from 0.22758 to 0.22197, saving model to mnist.model.best.hdf5\n",
      "Epoch 16/100\n",
      "48000/48000 [==============================] - 1s 22us/step - loss: 0.3211 - acc: 0.9052 - val_loss: 0.2156 - val_acc: 0.9369\n",
      "\n",
      "Epoch 00016: val_loss improved from 0.22197 to 0.21559, saving model to mnist.model.best.hdf5\n",
      "Epoch 17/100\n",
      "48000/48000 [==============================] - 1s 29us/step - loss: 0.3089 - acc: 0.9095 - val_loss: 0.2109 - val_acc: 0.9382\n",
      "\n",
      "Epoch 00017: val_loss improved from 0.21559 to 0.21090, saving model to mnist.model.best.hdf5\n",
      "Epoch 18/100\n",
      "48000/48000 [==============================] - 1s 23us/step - loss: 0.3034 - acc: 0.9103 - val_loss: 0.2054 - val_acc: 0.9403\n",
      "\n",
      "Epoch 00018: val_loss improved from 0.21090 to 0.20539, saving model to mnist.model.best.hdf5\n",
      "Epoch 19/100\n",
      "48000/48000 [==============================] - 1s 24us/step - loss: 0.2976 - acc: 0.9117 - val_loss: 0.2003 - val_acc: 0.9409\n",
      "\n",
      "Epoch 00019: val_loss improved from 0.20539 to 0.20030, saving model to mnist.model.best.hdf5\n",
      "Epoch 20/100\n",
      "48000/48000 [==============================] - 1s 23us/step - loss: 0.2895 - acc: 0.9148 - val_loss: 0.1957 - val_acc: 0.9422\n",
      "\n",
      "Epoch 00020: val_loss improved from 0.20030 to 0.19569, saving model to mnist.model.best.hdf5\n",
      "Epoch 21/100\n",
      "48000/48000 [==============================] - 1s 23us/step - loss: 0.2826 - acc: 0.9156 - val_loss: 0.1901 - val_acc: 0.9445\n",
      "\n",
      "Epoch 00021: val_loss improved from 0.19569 to 0.19007, saving model to mnist.model.best.hdf5\n",
      "Epoch 22/100\n",
      "48000/48000 [==============================] - 1s 31us/step - loss: 0.2744 - acc: 0.9191 - val_loss: 0.1858 - val_acc: 0.9457\n",
      "\n",
      "Epoch 00022: val_loss improved from 0.19007 to 0.18579, saving model to mnist.model.best.hdf5\n",
      "Epoch 23/100\n",
      "48000/48000 [==============================] - 1s 27us/step - loss: 0.2684 - acc: 0.9217 - val_loss: 0.1827 - val_acc: 0.9473\n",
      "\n",
      "Epoch 00023: val_loss improved from 0.18579 to 0.18266, saving model to mnist.model.best.hdf5\n",
      "Epoch 24/100\n",
      "48000/48000 [==============================] - 1s 25us/step - loss: 0.2678 - acc: 0.9207 - val_loss: 0.1787 - val_acc: 0.9477\n",
      "\n",
      "Epoch 00024: val_loss improved from 0.18266 to 0.17874, saving model to mnist.model.best.hdf5\n",
      "Epoch 25/100\n",
      "48000/48000 [==============================] - 1s 22us/step - loss: 0.2615 - acc: 0.9238 - val_loss: 0.1757 - val_acc: 0.9491\n",
      "\n",
      "Epoch 00025: val_loss improved from 0.17874 to 0.17573, saving model to mnist.model.best.hdf5\n",
      "Epoch 26/100\n",
      "48000/48000 [==============================] - 1s 23us/step - loss: 0.2568 - acc: 0.9244 - val_loss: 0.1727 - val_acc: 0.9507\n",
      "\n",
      "Epoch 00026: val_loss improved from 0.17573 to 0.17267, saving model to mnist.model.best.hdf5\n",
      "Epoch 27/100\n",
      "48000/48000 [==============================] - 1s 23us/step - loss: 0.2482 - acc: 0.9263 - val_loss: 0.1698 - val_acc: 0.9506\n",
      "\n",
      "Epoch 00027: val_loss improved from 0.17267 to 0.16978, saving model to mnist.model.best.hdf5\n",
      "Epoch 28/100\n",
      "48000/48000 [==============================] - 1s 23us/step - loss: 0.2456 - acc: 0.9282 - val_loss: 0.1671 - val_acc: 0.9510\n",
      "\n",
      "Epoch 00028: val_loss improved from 0.16978 to 0.16710, saving model to mnist.model.best.hdf5\n",
      "Epoch 29/100\n",
      "48000/48000 [==============================] - 1s 24us/step - loss: 0.2425 - acc: 0.9297 - val_loss: 0.1642 - val_acc: 0.9523\n",
      "\n",
      "Epoch 00029: val_loss improved from 0.16710 to 0.16423, saving model to mnist.model.best.hdf5\n",
      "Epoch 30/100\n",
      "48000/48000 [==============================] - 1s 28us/step - loss: 0.2378 - acc: 0.9304 - val_loss: 0.1611 - val_acc: 0.9529\n",
      "\n",
      "Epoch 00030: val_loss improved from 0.16423 to 0.16106, saving model to mnist.model.best.hdf5\n",
      "Epoch 31/100\n",
      "48000/48000 [==============================] - 1s 27us/step - loss: 0.2341 - acc: 0.9312 - val_loss: 0.1590 - val_acc: 0.9534\n",
      "\n",
      "Epoch 00031: val_loss improved from 0.16106 to 0.15901, saving model to mnist.model.best.hdf5\n",
      "Epoch 32/100\n",
      "48000/48000 [==============================] - 1s 24us/step - loss: 0.2270 - acc: 0.9331 - val_loss: 0.1565 - val_acc: 0.9539\n",
      "\n",
      "Epoch 00032: val_loss improved from 0.15901 to 0.15647, saving model to mnist.model.best.hdf5\n",
      "Epoch 33/100\n",
      "48000/48000 [==============================] - 1s 27us/step - loss: 0.2251 - acc: 0.9331 - val_loss: 0.1548 - val_acc: 0.9547\n",
      "\n",
      "Epoch 00033: val_loss improved from 0.15647 to 0.15484, saving model to mnist.model.best.hdf5\n",
      "Epoch 34/100\n",
      "48000/48000 [==============================] - 1s 24us/step - loss: 0.2238 - acc: 0.9343 - val_loss: 0.1524 - val_acc: 0.9558\n",
      "\n",
      "Epoch 00034: val_loss improved from 0.15484 to 0.15238, saving model to mnist.model.best.hdf5\n",
      "Epoch 35/100\n",
      "48000/48000 [==============================] - 1s 27us/step - loss: 0.2217 - acc: 0.9345 - val_loss: 0.1502 - val_acc: 0.9564\n",
      "\n",
      "Epoch 00035: val_loss improved from 0.15238 to 0.15018, saving model to mnist.model.best.hdf5\n"
     ]
    },
    {
     "name": "stdout",
     "output_type": "stream",
     "text": [
      "Epoch 36/100\n",
      "48000/48000 [==============================] - 1s 24us/step - loss: 0.2174 - acc: 0.9353 - val_loss: 0.1491 - val_acc: 0.9566\n",
      "\n",
      "Epoch 00036: val_loss improved from 0.15018 to 0.14913, saving model to mnist.model.best.hdf5\n",
      "Epoch 37/100\n",
      "48000/48000 [==============================] - 1s 24us/step - loss: 0.2144 - acc: 0.9379 - val_loss: 0.1461 - val_acc: 0.9566\n",
      "\n",
      "Epoch 00037: val_loss improved from 0.14913 to 0.14606, saving model to mnist.model.best.hdf5\n",
      "Epoch 38/100\n",
      "48000/48000 [==============================] - 1s 23us/step - loss: 0.2093 - acc: 0.9378 - val_loss: 0.1448 - val_acc: 0.9575\n",
      "\n",
      "Epoch 00038: val_loss improved from 0.14606 to 0.14478, saving model to mnist.model.best.hdf5\n",
      "Epoch 39/100\n",
      "48000/48000 [==============================] - 1s 24us/step - loss: 0.2082 - acc: 0.9394 - val_loss: 0.1436 - val_acc: 0.9575\n",
      "\n",
      "Epoch 00039: val_loss improved from 0.14478 to 0.14364, saving model to mnist.model.best.hdf5\n",
      "Epoch 40/100\n",
      "48000/48000 [==============================] - 1s 24us/step - loss: 0.2062 - acc: 0.9388 - val_loss: 0.1415 - val_acc: 0.9578\n",
      "\n",
      "Epoch 00040: val_loss improved from 0.14364 to 0.14148, saving model to mnist.model.best.hdf5\n",
      "Epoch 41/100\n",
      "48000/48000 [==============================] - 1s 25us/step - loss: 0.2023 - acc: 0.9404 - val_loss: 0.1399 - val_acc: 0.9585\n",
      "\n",
      "Epoch 00041: val_loss improved from 0.14148 to 0.13989, saving model to mnist.model.best.hdf5\n",
      "Epoch 42/100\n",
      "48000/48000 [==============================] - 1s 25us/step - loss: 0.1992 - acc: 0.9410 - val_loss: 0.1389 - val_acc: 0.9588\n",
      "\n",
      "Epoch 00042: val_loss improved from 0.13989 to 0.13885, saving model to mnist.model.best.hdf5\n",
      "Epoch 43/100\n",
      "48000/48000 [==============================] - 1s 23us/step - loss: 0.1956 - acc: 0.9423 - val_loss: 0.1367 - val_acc: 0.9600\n",
      "\n",
      "Epoch 00043: val_loss improved from 0.13885 to 0.13673, saving model to mnist.model.best.hdf5\n",
      "Epoch 44/100\n",
      "48000/48000 [==============================] - 1s 27us/step - loss: 0.1927 - acc: 0.9429 - val_loss: 0.1358 - val_acc: 0.9603\n",
      "\n",
      "Epoch 00044: val_loss improved from 0.13673 to 0.13585, saving model to mnist.model.best.hdf5\n",
      "Epoch 45/100\n",
      "48000/48000 [==============================] - 1s 22us/step - loss: 0.1930 - acc: 0.9426 - val_loss: 0.1336 - val_acc: 0.9609\n",
      "\n",
      "Epoch 00045: val_loss improved from 0.13585 to 0.13363, saving model to mnist.model.best.hdf5\n",
      "Epoch 46/100\n",
      "48000/48000 [==============================] - 1s 21us/step - loss: 0.1920 - acc: 0.9434 - val_loss: 0.1325 - val_acc: 0.9610\n",
      "\n",
      "Epoch 00046: val_loss improved from 0.13363 to 0.13247, saving model to mnist.model.best.hdf5\n",
      "Epoch 47/100\n",
      "48000/48000 [==============================] - 1s 22us/step - loss: 0.1865 - acc: 0.9454 - val_loss: 0.1319 - val_acc: 0.9613\n",
      "\n",
      "Epoch 00047: val_loss improved from 0.13247 to 0.13188, saving model to mnist.model.best.hdf5\n",
      "Epoch 48/100\n",
      "48000/48000 [==============================] - 1s 23us/step - loss: 0.1887 - acc: 0.9439 - val_loss: 0.1305 - val_acc: 0.9612\n",
      "\n",
      "Epoch 00048: val_loss improved from 0.13188 to 0.13054, saving model to mnist.model.best.hdf5\n",
      "Epoch 49/100\n",
      "48000/48000 [==============================] - 1s 23us/step - loss: 0.1823 - acc: 0.9462 - val_loss: 0.1298 - val_acc: 0.9618\n",
      "\n",
      "Epoch 00049: val_loss improved from 0.13054 to 0.12984, saving model to mnist.model.best.hdf5\n",
      "Epoch 50/100\n",
      "48000/48000 [==============================] - 1s 26us/step - loss: 0.1835 - acc: 0.9460 - val_loss: 0.1282 - val_acc: 0.9620\n",
      "\n",
      "Epoch 00050: val_loss improved from 0.12984 to 0.12822, saving model to mnist.model.best.hdf5\n",
      "Epoch 51/100\n",
      "48000/48000 [==============================] - 1s 23us/step - loss: 0.1783 - acc: 0.9478 - val_loss: 0.1272 - val_acc: 0.9623\n",
      "\n",
      "Epoch 00051: val_loss improved from 0.12822 to 0.12722, saving model to mnist.model.best.hdf5\n",
      "Epoch 52/100\n",
      "48000/48000 [==============================] - 1s 27us/step - loss: 0.1803 - acc: 0.9466 - val_loss: 0.1260 - val_acc: 0.9623\n",
      "\n",
      "Epoch 00052: val_loss improved from 0.12722 to 0.12604, saving model to mnist.model.best.hdf5\n",
      "Epoch 53/100\n",
      "48000/48000 [==============================] - 1s 26us/step - loss: 0.1764 - acc: 0.9475 - val_loss: 0.1250 - val_acc: 0.9633\n",
      "\n",
      "Epoch 00053: val_loss improved from 0.12604 to 0.12501, saving model to mnist.model.best.hdf5\n",
      "Epoch 54/100\n",
      "48000/48000 [==============================] - 1s 30us/step - loss: 0.1754 - acc: 0.9477 - val_loss: 0.1241 - val_acc: 0.9632\n",
      "\n",
      "Epoch 00054: val_loss improved from 0.12501 to 0.12413, saving model to mnist.model.best.hdf5\n",
      "Epoch 55/100\n",
      "48000/48000 [==============================] - 1s 27us/step - loss: 0.1738 - acc: 0.9495 - val_loss: 0.1233 - val_acc: 0.9630\n",
      "\n",
      "Epoch 00055: val_loss improved from 0.12413 to 0.12332, saving model to mnist.model.best.hdf5\n",
      "Epoch 56/100\n",
      "48000/48000 [==============================] - 1s 27us/step - loss: 0.1715 - acc: 0.9502 - val_loss: 0.1226 - val_acc: 0.9631\n",
      "\n",
      "Epoch 00056: val_loss improved from 0.12332 to 0.12260, saving model to mnist.model.best.hdf5\n",
      "Epoch 57/100\n",
      "48000/48000 [==============================] - 1s 27us/step - loss: 0.1700 - acc: 0.9491 - val_loss: 0.1211 - val_acc: 0.9637\n",
      "\n",
      "Epoch 00057: val_loss improved from 0.12260 to 0.12111, saving model to mnist.model.best.hdf5\n",
      "Epoch 58/100\n",
      "48000/48000 [==============================] - 1s 29us/step - loss: 0.1693 - acc: 0.9499 - val_loss: 0.1204 - val_acc: 0.9646\n",
      "\n",
      "Epoch 00058: val_loss improved from 0.12111 to 0.12035, saving model to mnist.model.best.hdf5\n",
      "Epoch 59/100\n",
      "48000/48000 [==============================] - 1s 28us/step - loss: 0.1676 - acc: 0.9508 - val_loss: 0.1197 - val_acc: 0.9641\n",
      "\n",
      "Epoch 00059: val_loss improved from 0.12035 to 0.11972, saving model to mnist.model.best.hdf5\n",
      "Epoch 60/100\n",
      "48000/48000 [==============================] - 1s 30us/step - loss: 0.1655 - acc: 0.9505 - val_loss: 0.1186 - val_acc: 0.9643\n",
      "\n",
      "Epoch 00060: val_loss improved from 0.11972 to 0.11862, saving model to mnist.model.best.hdf5\n",
      "Epoch 61/100\n",
      "48000/48000 [==============================] - 1s 29us/step - loss: 0.1644 - acc: 0.9509 - val_loss: 0.1179 - val_acc: 0.9648\n",
      "\n",
      "Epoch 00061: val_loss improved from 0.11862 to 0.11793, saving model to mnist.model.best.hdf5\n",
      "Epoch 62/100\n",
      "48000/48000 [==============================] - 1s 25us/step - loss: 0.1627 - acc: 0.9515 - val_loss: 0.1175 - val_acc: 0.9652\n",
      "\n",
      "Epoch 00062: val_loss improved from 0.11793 to 0.11747, saving model to mnist.model.best.hdf5\n",
      "Epoch 63/100\n",
      "48000/48000 [==============================] - 1s 27us/step - loss: 0.1612 - acc: 0.9516 - val_loss: 0.1156 - val_acc: 0.9655\n",
      "\n",
      "Epoch 00063: val_loss improved from 0.11747 to 0.11556, saving model to mnist.model.best.hdf5\n",
      "Epoch 64/100\n",
      "48000/48000 [==============================] - 1s 26us/step - loss: 0.1572 - acc: 0.9540 - val_loss: 0.1155 - val_acc: 0.9650\n",
      "\n",
      "Epoch 00064: val_loss improved from 0.11556 to 0.11550, saving model to mnist.model.best.hdf5\n",
      "Epoch 65/100\n",
      "48000/48000 [==============================] - 1s 28us/step - loss: 0.1598 - acc: 0.9533 - val_loss: 0.1149 - val_acc: 0.9656\n",
      "\n",
      "Epoch 00065: val_loss improved from 0.11550 to 0.11487, saving model to mnist.model.best.hdf5\n",
      "Epoch 66/100\n",
      "48000/48000 [==============================] - 1s 24us/step - loss: 0.1548 - acc: 0.9531 - val_loss: 0.1139 - val_acc: 0.9667\n",
      "\n",
      "Epoch 00066: val_loss improved from 0.11487 to 0.11387, saving model to mnist.model.best.hdf5\n",
      "Epoch 67/100\n",
      "48000/48000 [==============================] - 1s 25us/step - loss: 0.1563 - acc: 0.9535 - val_loss: 0.1133 - val_acc: 0.9662\n",
      "\n",
      "Epoch 00067: val_loss improved from 0.11387 to 0.11335, saving model to mnist.model.best.hdf5\n",
      "Epoch 68/100\n",
      "48000/48000 [==============================] - 1s 24us/step - loss: 0.1511 - acc: 0.9550 - val_loss: 0.1128 - val_acc: 0.9663\n",
      "\n",
      "Epoch 00068: val_loss improved from 0.11335 to 0.11285, saving model to mnist.model.best.hdf5\n",
      "Epoch 69/100\n",
      "48000/48000 [==============================] - 1s 25us/step - loss: 0.1508 - acc: 0.9556 - val_loss: 0.1123 - val_acc: 0.9667\n",
      "\n",
      "Epoch 00069: val_loss improved from 0.11285 to 0.11232, saving model to mnist.model.best.hdf5\n",
      "Epoch 70/100\n",
      "48000/48000 [==============================] - 1s 24us/step - loss: 0.1506 - acc: 0.9549 - val_loss: 0.1113 - val_acc: 0.9672\n",
      "\n",
      "Epoch 00070: val_loss improved from 0.11232 to 0.11130, saving model to mnist.model.best.hdf5\n",
      "Epoch 71/100\n"
     ]
    },
    {
     "name": "stdout",
     "output_type": "stream",
     "text": [
      "48000/48000 [==============================] - 1s 22us/step - loss: 0.1518 - acc: 0.9552 - val_loss: 0.1105 - val_acc: 0.9672\n",
      "\n",
      "Epoch 00071: val_loss improved from 0.11130 to 0.11050, saving model to mnist.model.best.hdf5\n",
      "Epoch 72/100\n",
      "48000/48000 [==============================] - 1s 21us/step - loss: 0.1497 - acc: 0.9560 - val_loss: 0.1097 - val_acc: 0.9674\n",
      "\n",
      "Epoch 00072: val_loss improved from 0.11050 to 0.10970, saving model to mnist.model.best.hdf5\n",
      "Epoch 73/100\n",
      "48000/48000 [==============================] - 1s 21us/step - loss: 0.1470 - acc: 0.9563 - val_loss: 0.1090 - val_acc: 0.9670\n",
      "\n",
      "Epoch 00073: val_loss improved from 0.10970 to 0.10897, saving model to mnist.model.best.hdf5\n",
      "Epoch 74/100\n",
      "48000/48000 [==============================] - 1s 22us/step - loss: 0.1466 - acc: 0.9561 - val_loss: 0.1089 - val_acc: 0.9674\n",
      "\n",
      "Epoch 00074: val_loss improved from 0.10897 to 0.10885, saving model to mnist.model.best.hdf5\n",
      "Epoch 75/100\n",
      "48000/48000 [==============================] - 1s 22us/step - loss: 0.1444 - acc: 0.9562 - val_loss: 0.1082 - val_acc: 0.9668\n",
      "\n",
      "Epoch 00075: val_loss improved from 0.10885 to 0.10815, saving model to mnist.model.best.hdf5\n",
      "Epoch 76/100\n",
      "48000/48000 [==============================] - 1s 22us/step - loss: 0.1450 - acc: 0.9571 - val_loss: 0.1077 - val_acc: 0.9674\n",
      "\n",
      "Epoch 00076: val_loss improved from 0.10815 to 0.10774, saving model to mnist.model.best.hdf5\n",
      "Epoch 77/100\n",
      "48000/48000 [==============================] - 1s 27us/step - loss: 0.1437 - acc: 0.9573 - val_loss: 0.1070 - val_acc: 0.9680\n",
      "\n",
      "Epoch 00077: val_loss improved from 0.10774 to 0.10701, saving model to mnist.model.best.hdf5\n",
      "Epoch 78/100\n",
      "48000/48000 [==============================] - 1s 29us/step - loss: 0.1404 - acc: 0.9582 - val_loss: 0.1061 - val_acc: 0.9678\n",
      "\n",
      "Epoch 00078: val_loss improved from 0.10701 to 0.10605, saving model to mnist.model.best.hdf5\n",
      "Epoch 79/100\n",
      "48000/48000 [==============================] - 1s 22us/step - loss: 0.1412 - acc: 0.9587 - val_loss: 0.1062 - val_acc: 0.9677\n",
      "\n",
      "Epoch 00079: val_loss did not improve from 0.10605\n",
      "Epoch 80/100\n",
      "48000/48000 [==============================] - 1s 22us/step - loss: 0.1396 - acc: 0.9587 - val_loss: 0.1052 - val_acc: 0.9687\n",
      "\n",
      "Epoch 00080: val_loss improved from 0.10605 to 0.10516, saving model to mnist.model.best.hdf5\n",
      "Epoch 81/100\n",
      "48000/48000 [==============================] - 1s 22us/step - loss: 0.1394 - acc: 0.9596 - val_loss: 0.1046 - val_acc: 0.9687\n",
      "\n",
      "Epoch 00081: val_loss improved from 0.10516 to 0.10462, saving model to mnist.model.best.hdf5\n",
      "Epoch 82/100\n",
      "48000/48000 [==============================] - 1s 22us/step - loss: 0.1388 - acc: 0.9579 - val_loss: 0.1046 - val_acc: 0.9681\n",
      "\n",
      "Epoch 00082: val_loss improved from 0.10462 to 0.10457, saving model to mnist.model.best.hdf5\n",
      "Epoch 83/100\n",
      "48000/48000 [==============================] - 1s 22us/step - loss: 0.1380 - acc: 0.9590 - val_loss: 0.1038 - val_acc: 0.9691\n",
      "\n",
      "Epoch 00083: val_loss improved from 0.10457 to 0.10377, saving model to mnist.model.best.hdf5\n",
      "Epoch 84/100\n",
      "48000/48000 [==============================] - 1s 22us/step - loss: 0.1358 - acc: 0.9590 - val_loss: 0.1038 - val_acc: 0.9687\n",
      "\n",
      "Epoch 00084: val_loss did not improve from 0.10377\n",
      "Epoch 85/100\n",
      "48000/48000 [==============================] - 1s 28us/step - loss: 0.1364 - acc: 0.9599 - val_loss: 0.1034 - val_acc: 0.9684\n",
      "\n",
      "Epoch 00085: val_loss improved from 0.10377 to 0.10337, saving model to mnist.model.best.hdf5\n",
      "Epoch 86/100\n",
      "48000/48000 [==============================] - 1s 25us/step - loss: 0.1314 - acc: 0.9604 - val_loss: 0.1032 - val_acc: 0.9687\n",
      "\n",
      "Epoch 00086: val_loss improved from 0.10337 to 0.10320, saving model to mnist.model.best.hdf5\n",
      "Epoch 87/100\n",
      "48000/48000 [==============================] - 1s 26us/step - loss: 0.1332 - acc: 0.9609 - val_loss: 0.1022 - val_acc: 0.9694\n",
      "\n",
      "Epoch 00087: val_loss improved from 0.10320 to 0.10221, saving model to mnist.model.best.hdf5\n",
      "Epoch 88/100\n",
      "48000/48000 [==============================] - 1s 21us/step - loss: 0.1318 - acc: 0.9610 - val_loss: 0.1017 - val_acc: 0.9693\n",
      "\n",
      "Epoch 00088: val_loss improved from 0.10221 to 0.10168, saving model to mnist.model.best.hdf5\n",
      "Epoch 89/100\n",
      "48000/48000 [==============================] - 1s 22us/step - loss: 0.1280 - acc: 0.9621 - val_loss: 0.1013 - val_acc: 0.9694\n",
      "\n",
      "Epoch 00089: val_loss improved from 0.10168 to 0.10130, saving model to mnist.model.best.hdf5\n",
      "Epoch 90/100\n",
      "48000/48000 [==============================] - 1s 25us/step - loss: 0.1300 - acc: 0.9600 - val_loss: 0.1011 - val_acc: 0.9693\n",
      "\n",
      "Epoch 00090: val_loss improved from 0.10130 to 0.10108, saving model to mnist.model.best.hdf5\n",
      "Epoch 91/100\n",
      "48000/48000 [==============================] - 1s 26us/step - loss: 0.1294 - acc: 0.9620 - val_loss: 0.1005 - val_acc: 0.9703\n",
      "\n",
      "Epoch 00091: val_loss improved from 0.10108 to 0.10055, saving model to mnist.model.best.hdf5\n",
      "Epoch 92/100\n",
      "48000/48000 [==============================] - 1s 28us/step - loss: 0.1292 - acc: 0.9617 - val_loss: 0.1001 - val_acc: 0.9702\n",
      "\n",
      "Epoch 00092: val_loss improved from 0.10055 to 0.10015, saving model to mnist.model.best.hdf5\n",
      "Epoch 93/100\n",
      "48000/48000 [==============================] - 1s 25us/step - loss: 0.1267 - acc: 0.9624 - val_loss: 0.0992 - val_acc: 0.9702\n",
      "\n",
      "Epoch 00093: val_loss improved from 0.10015 to 0.09917, saving model to mnist.model.best.hdf5\n",
      "Epoch 94/100\n",
      "48000/48000 [==============================] - 1s 25us/step - loss: 0.1253 - acc: 0.9620 - val_loss: 0.0997 - val_acc: 0.9703\n",
      "\n",
      "Epoch 00094: val_loss did not improve from 0.09917\n",
      "Epoch 95/100\n",
      "48000/48000 [==============================] - 1s 24us/step - loss: 0.1248 - acc: 0.9619 - val_loss: 0.0993 - val_acc: 0.9708\n",
      "\n",
      "Epoch 00095: val_loss did not improve from 0.09917\n",
      "Epoch 96/100\n",
      "48000/48000 [==============================] - 1s 24us/step - loss: 0.1250 - acc: 0.9632 - val_loss: 0.0983 - val_acc: 0.9708\n",
      "\n",
      "Epoch 00096: val_loss improved from 0.09917 to 0.09825, saving model to mnist.model.best.hdf5\n",
      "Epoch 97/100\n",
      "48000/48000 [==============================] - 1s 26us/step - loss: 0.1233 - acc: 0.9634 - val_loss: 0.0988 - val_acc: 0.9710\n",
      "\n",
      "Epoch 00097: val_loss did not improve from 0.09825\n",
      "Epoch 98/100\n",
      "48000/48000 [==============================] - 1s 22us/step - loss: 0.1225 - acc: 0.9632 - val_loss: 0.0984 - val_acc: 0.9709\n",
      "\n",
      "Epoch 00098: val_loss did not improve from 0.09825\n",
      "Epoch 99/100\n",
      "48000/48000 [==============================] - 1s 24us/step - loss: 0.1237 - acc: 0.9627 - val_loss: 0.0975 - val_acc: 0.9712\n",
      "\n",
      "Epoch 00099: val_loss improved from 0.09825 to 0.09753, saving model to mnist.model.best.hdf5\n",
      "Epoch 100/100\n",
      "48000/48000 [==============================] - 1s 27us/step - loss: 0.1222 - acc: 0.9633 - val_loss: 0.0970 - val_acc: 0.9717\n",
      "\n",
      "Epoch 00100: val_loss improved from 0.09753 to 0.09700, saving model to mnist.model.best.hdf5\n"
     ]
    }
   ],
   "source": [
    "hist = model.fit(\n",
    "    x_train, y_train, batch_size=128, epochs=100,\n",
    "    validation_split=0.2 ,callbacks=[check_pointer],\n",
    "    verbose=1, shuffle=True\n",
    ")"
   ]
  },
  {
   "cell_type": "code",
   "execution_count": 86,
   "metadata": {},
   "outputs": [
    {
     "name": "stdout",
     "output_type": "stream",
     "text": [
      "10000/10000 [==============================] - 0s 26us/step\n"
     ]
    },
    {
     "data": {
      "text/plain": [
       "[0.092554082469875, 0.9725]"
      ]
     },
     "execution_count": 86,
     "metadata": {},
     "output_type": "execute_result"
    }
   ],
   "source": [
    "model.evaluate(x_test, y_test, verbose=1)"
   ]
  },
  {
   "cell_type": "code",
   "execution_count": null,
   "metadata": {},
   "outputs": [],
   "source": []
  }
 ],
 "metadata": {
  "kernelspec": {
   "display_name": "Python 3",
   "language": "python",
   "name": "python3"
  },
  "language_info": {
   "codemirror_mode": {
    "name": "ipython",
    "version": 3
   },
   "file_extension": ".py",
   "mimetype": "text/x-python",
   "name": "python",
   "nbconvert_exporter": "python",
   "pygments_lexer": "ipython3",
   "version": "3.6.4"
  }
 },
 "nbformat": 4,
 "nbformat_minor": 2
}
