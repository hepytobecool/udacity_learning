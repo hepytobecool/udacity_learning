{
 "cells": [
  {
   "cell_type": "code",
   "execution_count": 1,
   "metadata": {},
   "outputs": [],
   "source": [
    "import numpy as np\n",
    "def sigmoid(x):\n",
    "    \"\"\"\n",
    "    Calculate sigmoid\n",
    "    \"\"\"\n",
    "    return 1 / (1 + np.exp(-x))"
   ]
  },
  {
   "cell_type": "code",
   "execution_count": 2,
   "metadata": {},
   "outputs": [],
   "source": [
    "x = np.array([0.5, 0.1, -0.2])\n",
    "target = 0.6\n",
    "learnrate = 0.5\n",
    "\n",
    "weights_input_hidden = np.array([[0.5, -0.6],\n",
    "                                 [0.1, -0.2],\n",
    "                                 [0.1, 0.7]])\n",
    "\n",
    "weights_hidden_output = np.array([0.1, -0.3])"
   ]
  },
  {
   "cell_type": "code",
   "execution_count": 3,
   "metadata": {},
   "outputs": [
    {
     "name": "stdout",
     "output_type": "stream",
     "text": [
      "hidden_layer_input :\n",
      "[ 0.24 -0.46]\n",
      "(2,)\n",
      "hidden_layer_output :\n",
      "[0.55971365 0.38698582]\n",
      "(2,)\n",
      "output_layer_in :\n",
      "-0.06012438223148006\n",
      "()\n"
     ]
    }
   ],
   "source": [
    "## Forward pass\n",
    "hidden_layer_input = np.dot(x, weights_input_hidden)\n",
    "print(\"hidden_layer_input :\")\n",
    "print(hidden_layer_input)\n",
    "print(hidden_layer_input.shape)\n",
    "hidden_layer_output = sigmoid(hidden_layer_input)\n",
    "print(\"hidden_layer_output :\")\n",
    "print(hidden_layer_output)\n",
    "print(hidden_layer_output.shape)\n",
    "\n",
    "output_layer_in = np.dot(hidden_layer_output, weights_hidden_output)\n",
    "print(\"output_layer_in :\")\n",
    "print(output_layer_in)\n",
    "print(output_layer_in.shape)\n",
    "output = sigmoid(output_layer_in)\n"
   ]
  },
  {
   "cell_type": "code",
   "execution_count": 4,
   "metadata": {},
   "outputs": [
    {
     "name": "stdout",
     "output_type": "stream",
     "text": [
      "hidden_error_term :\n",
      "[ 0.00070802 -0.00204471]\n",
      "(2,)\n"
     ]
    }
   ],
   "source": [
    "## Backwards pass\n",
    "## TODO: Calculate output error\n",
    "error = target-output\n",
    "\n",
    "# TODO: Calculate error term for output layer\n",
    "output_error_term = error*output*(1-output)\n",
    "# TODO: Calculate error term for hidden layer\n",
    "#算误差项是，其实是array中每个元素做内积运算\n",
    "hidden_error_term = output_error_term*weights_hidden_output \\\n",
    "                    *(1-hidden_layer_output)*hidden_layer_output\n",
    "                    \n",
    "print(\"hidden_error_term :\")\n",
    "print(hidden_error_term)\n",
    "print(hidden_error_term.shape)\n",
    "# TODO: Calculate change in weights for hidden layer to output layer\n",
    "delta_w_h_o = output_error_term*hidden_layer_output*learnrate\n",
    "\n",
    "# TODO: Calculate change in weights for input layer to hidden layer\n",
    "#delta_w_i_h = learnrate*np.multiply(hidden_layer_input,hidden_error_term)\n",
    "delta_w_i_h = learnrate*hidden_error_term*x[:,None]"
   ]
  },
  {
   "cell_type": "code",
   "execution_count": 5,
   "metadata": {},
   "outputs": [
    {
     "name": "stdout",
     "output_type": "stream",
     "text": [
      "Change in weights for hidden layer to output layer:\n",
      "[0.00804047 0.00555918]\n",
      "Change in weights for input layer to hidden layer:\n",
      "[[ 1.77005547e-04 -5.11178506e-04]\n",
      " [ 3.54011093e-05 -1.02235701e-04]\n",
      " [-7.08022187e-05  2.04471402e-04]]\n"
     ]
    }
   ],
   "source": [
    "# TODO: Calculate change in weights for input layer to hidden layer\n",
    "\n",
    "\n",
    "print('Change in weights for hidden layer to output layer:')\n",
    "print(delta_w_h_o)\n",
    "print('Change in weights for input layer to hidden layer:')\n",
    "print(delta_w_i_h)"
   ]
  }
 ],
 "metadata": {
  "kernelspec": {
   "display_name": "Python 3",
   "language": "python",
   "name": "python3"
  },
  "language_info": {
   "codemirror_mode": {
    "name": "ipython",
    "version": 3
   },
   "file_extension": ".py",
   "mimetype": "text/x-python",
   "name": "python",
   "nbconvert_exporter": "python",
   "pygments_lexer": "ipython3",
   "version": "3.6.4"
  }
 },
 "nbformat": 4,
 "nbformat_minor": 2
}
